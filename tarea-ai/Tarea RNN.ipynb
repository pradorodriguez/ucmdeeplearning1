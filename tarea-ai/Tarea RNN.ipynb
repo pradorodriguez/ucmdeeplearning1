{
 "cells": [
  {
   "cell_type": "markdown",
   "id": "prospective-america",
   "metadata": {
    "id": "prospective-america"
   },
   "source": [
    "Dado que el entrenamiento de redes neuronales es una tarea  muy costosa, **se recomienda ejecutar el notebooks en [Google Colab](https://colab.research.google.com)**, por supuesto también se puede ejecutar en local.\n",
    "\n",
    "Al entrar en [Google Colab](https://colab.research.google.com) bastará con hacer click en `upload` y subir este notebook. No olvide luego descargarlo en `File->Download .ipynb`\n",
    "\n",
    "**El examen deberá ser entregado con las celdas ejecutadas, si alguna celda no está ejecutadas no se contará.**"
   ]
  },
  {
   "cell_type": "markdown",
   "id": "novel-stewart",
   "metadata": {
    "id": "novel-stewart"
   },
   "source": [
    "El examen se divide en tres partes, con la puntuación que se indica a continuación. La puntuación máxima será 10.\n",
    "\n",
    "    \n",
    "- [Actividad 1: Redes Recurrentes](#actividad_1): 10 pts\n",
    "    - [Cuestión 1](#3.1): 2.5 pt\n",
    "    - [Cuestión 2](#3.2): 2.5 pt\n",
    "    - [Cuestión 3](#3.3): 2.5 pts\n",
    "    - [Cuestión 4](#3.4): 1.25 pts\n",
    "    - [Cuestión 5](#3.5): 1.25 pts\n",
    "\n"
   ]
  },
  {
   "cell_type": "code",
   "execution_count": null,
   "id": "prompt-developer",
   "metadata": {
    "id": "prompt-developer"
   },
   "outputs": [],
   "source": [
    "import tensorflow as tf\n",
    "from tensorflow import keras\n",
    "from tensorflow.keras import layers\n",
    "import matplotlib.pyplot as plt\n",
    "import pandas as pd\n",
    "import numpy as np"
   ]
  },
  {
   "cell_type": "markdown",
   "id": "regional-favorite",
   "metadata": {
    "id": "regional-favorite"
   },
   "source": [
    "<a name='actividad_1'></a>\n",
    "# Actividad 1: Redes Recurrentes\n",
    "\n",
    "\n",
    "- [Cuestión 1](#3.1): 2.5 pt\n",
    "- [Cuestión 2](#3.2): 2.5 pt\n",
    "- [Cuestión 3](#3.3): 2.5 pts\n",
    "- [Cuestión 4](#3.4): 1.25 pts\n",
    "- [Cuestión 5](#3.5): 1.25 pts\n",
    "\n",
    "Vamos a usar un dataset de las temperaturas mínimas diarias en Melbourne. La tarea será la de predecir la temperatura mínima en dos días. Puedes usar técnicas de series temporales vistas en otras asignaturas, pero no es necesario.\n"
   ]
  },
  {
   "cell_type": "code",
   "execution_count": null,
   "id": "empty-value",
   "metadata": {
    "id": "empty-value"
   },
   "outputs": [],
   "source": [
    "dataset_url = 'https://raw.githubusercontent.com/jbrownlee/Datasets/master/daily-min-temperatures.csv'\n",
    "data_dir = tf.keras.utils.get_file('daily-min-temperatures.csv', origin=dataset_url)"
   ]
  },
  {
   "cell_type": "code",
   "execution_count": null,
   "id": "numerous-situation",
   "metadata": {
    "id": "numerous-situation"
   },
   "outputs": [],
   "source": [
    "df = pd.read_csv(data_dir, parse_dates=['Date'])\n",
    "df.head()"
   ]
  },
  {
   "cell_type": "code",
   "execution_count": null,
   "id": "copyrighted-madonna",
   "metadata": {
    "id": "copyrighted-madonna"
   },
   "outputs": [],
   "source": [
    "temperatures = df['Temp'].values\n",
    "print('number of samples:', len(temperatures))\n",
    "train_data = temperatures[:3000]\n",
    "test_data = temperatures[3000:]\n",
    "print('number of train samples:', len(train_data))\n",
    "print('number of test samples:', len(test_data))\n",
    "print('firsts trainn samples:', train_data[:10])"
   ]
  },
  {
   "cell_type": "markdown",
   "id": "adapted-brief",
   "metadata": {
    "id": "adapted-brief"
   },
   "source": [
    "<a name='3.1'></a>\n",
    "## Cuestión 1: Convierta `train_data` y `test_data`  en ventanas de tamaño 5, para predecir el valor en 2 días\n",
    "\n",
    "En la nomenclatura de [Introduction_to_RNN_Time_Series.ipynb](https://github.com/ezponda/intro_deep_learning/blob/main/class/RNN/Introduction_to_RNN_Time_Series.ipynb)\n",
    "```python\n",
    "past, future = (5, 2)\n",
    "```\n",
    "\n",
    "Para las primeras 10 muestras de train_data `[20.7, 17.9, 18.8, 14.6, 15.8, 15.8, 15.8, 17.4, 21.8, 20. ]` el resultado debería ser:\n",
    "\n",
    "```python\n",
    "x[0] : [20.7, 17.9, 18.8, 14.6, 15.8] , y[0]: 15.8\n",
    "x[1] : [17.9, 18.8, 14.6, 15.8, 15.8] , y[1]: 17.4\n",
    "x[2] : [18.8, 14.6, 15.8, 15.8, 15.8] , y[2]: 21.8\n",
    "x[3] : [14.6, 15.8, 15.8, 15.8, 17.4] , y[3]: 20.             \n",
    "```"
   ]
  },
  {
   "cell_type": "code",
   "execution_count": null,
   "id": "conscious-teaching",
   "metadata": {
    "id": "conscious-teaching"
   },
   "outputs": [],
   "source": [
    "# windowing function"
   ]
  },
  {
   "cell_type": "code",
   "execution_count": null,
   "id": "joint-annotation",
   "metadata": {
    "id": "joint-annotation"
   },
   "outputs": [],
   "source": [
    "past, future = (5, 2)\n",
    "X_train, y_train = ...\n",
    "X_test, y_test = ..."
   ]
  },
  {
   "cell_type": "markdown",
   "id": "electrical-junior",
   "metadata": {
    "id": "electrical-junior"
   },
   "source": [
    "<a name='3.2'></a>\n",
    "## Cuestión 2: Cree un modelo recurrente de dos capas GRU para predecir con las ventanas de la cuestión anterior.\n"
   ]
  },
  {
   "cell_type": "code",
   "execution_count": null,
   "id": "aboriginal-complaint",
   "metadata": {
    "id": "aboriginal-complaint"
   },
   "outputs": [],
   "source": [
    "inputs = keras.layers.Input(shape=(..., ...))\n",
    "...\n",
    "model = keras.Model(inputs=..., outputs=...)\n",
    "model.compile(...)\n",
    "model.summary()"
   ]
  },
  {
   "cell_type": "code",
   "execution_count": null,
   "id": "applicable-longer",
   "metadata": {
    "id": "applicable-longer"
   },
   "outputs": [],
   "source": [
    "es_callback = keras.callbacks.EarlyStopping(\n",
    "    monitor=\"val_loss\", min_delta=0, patience=10)\n",
    "\n",
    "history = model.fit(\n",
    "    X_train, y_train,\n",
    "    epochs=200,\n",
    "    validation_split=0.2, shuffle=True, batch_size = 64, callbacks=[es_callback]\n",
    ")"
   ]
  },
  {
   "cell_type": "code",
   "execution_count": null,
   "id": "stone-province",
   "metadata": {
    "id": "stone-province"
   },
   "outputs": [],
   "source": [
    "results = model.evaluate(X_test, y_test, verbose=1)\n",
    "print('Test Loss: {}'.format(results))"
   ]
  },
  {
   "cell_type": "markdown",
   "id": "genetic-guitar",
   "metadata": {
    "id": "genetic-guitar"
   },
   "source": [
    "<a name='3.3'></a>\n",
    "## Cuestión 3: Añada más features a la series temporal, por ejemplo `portion_year`. Cree un modelo que mejore al anterior.\n"
   ]
  },
  {
   "cell_type": "code",
   "execution_count": null,
   "id": "prospective-master",
   "metadata": {
    "id": "prospective-master"
   },
   "outputs": [],
   "source": [
    "## Puede añadir más features\n",
    "df['portion_year'] = df['Date'].dt.dayofyear / 365.0\n",
    "df_multi = df[['Temp', 'portion_year']].copy()\n",
    "\n",
    "## train - test split\n",
    "train_data = df_multi.iloc[:3000].copy()\n",
    "test_data = df_multi.loc[3000:, :].copy()"
   ]
  },
  {
   "cell_type": "code",
   "execution_count": null,
   "id": "threaded-sheriff",
   "metadata": {
    "id": "threaded-sheriff"
   },
   "outputs": [],
   "source": [
    "## Create windows\n",
    "X_train, y_train = ...\n",
    "X_test, y_test = ..."
   ]
  },
  {
   "cell_type": "code",
   "execution_count": null,
   "id": "stable-estate",
   "metadata": {
    "id": "stable-estate"
   },
   "outputs": [],
   "source": [
    "inputs = keras.layers.Input(shape=(..., ...))\n",
    "...\n",
    "model = keras.Model(inputs=..., outputs=...)\n",
    "model.compile(...)\n",
    "model.summary()"
   ]
  },
  {
   "cell_type": "code",
   "execution_count": null,
   "id": "structured-philip",
   "metadata": {
    "id": "structured-philip"
   },
   "outputs": [],
   "source": [
    "es_callback = keras.callbacks.EarlyStopping(\n",
    "    monitor=\"val_loss\", min_delta=0, patience=10)\n",
    "\n",
    "history = model.fit(\n",
    "    X_train, y_train,\n",
    "    epochs=200,\n",
    "    validation_split=0.2, shuffle=True, batch_size = 64, callbacks=[es_callback]\n",
    ")"
   ]
  },
  {
   "cell_type": "code",
   "execution_count": null,
   "id": "assigned-afternoon",
   "metadata": {
    "id": "assigned-afternoon"
   },
   "outputs": [],
   "source": [
    "results = model.evaluate(X_test, y_test, verbose=1)\n",
    "print('Test Loss: {}'.format(results))"
   ]
  },
  {
   "cell_type": "markdown",
   "id": "precise-tract",
   "metadata": {
    "id": "precise-tract"
   },
   "source": [
    "<a name='3.4'></a>\n",
    "## Cuestión 4: ¿En cuáles de estas aplicaciones se usaría un arquitectura 'many-to-one'?\n",
    "\n",
    "**a)** Clasificación de sentimiento en textos\n",
    "\n",
    "**b)** Verificación de voz para iniciar el ordenador.\n",
    "\n",
    "**c)** Generación de música.\n",
    "\n",
    "**d)** Un clasificador que clasifique piezas de música según su autor.\n"
   ]
  },
  {
   "cell_type": "markdown",
   "id": "professional-mayor",
   "metadata": {
    "id": "professional-mayor"
   },
   "source": []
  },
  {
   "cell_type": "markdown",
   "id": "fallen-error",
   "metadata": {
    "id": "fallen-error"
   },
   "source": [
    "<a name='3.5'></a>\n",
    "## Cuestión 5: ¿Qué ventajas aporta el uso de word embeddings?\n",
    "\n",
    "**a)** Permiten reducir la dimensión de entrada respecto al one-hot encoding.\n",
    "\n",
    "**b)** Permiten descubrir la similaridad entre palabras de manera más intuitiva que con one-hot encoding.\n",
    "\n",
    "**c)** Son una manera de realizar transfer learning en nlp.\n",
    "\n",
    "**d)** Permiten visualizar las relaciones entre palabras con métodos de reducción de dimensioones como el PCA.\n"
   ]
  },
  {
   "cell_type": "markdown",
   "id": "stylish-polish",
   "metadata": {
    "id": "stylish-polish"
   },
   "source": []
  }
 ],
 "metadata": {
  "colab": {
   "provenance": [],
   "toc_visible": true
  },
  "kernelspec": {
   "display_name": "venvml",
   "language": "python",
   "name": "python3"
  },
  "language_info": {
   "codemirror_mode": {
    "name": "ipython",
    "version": 3
   },
   "file_extension": ".py",
   "mimetype": "text/x-python",
   "name": "python",
   "nbconvert_exporter": "python",
   "pygments_lexer": "ipython3",
   "version": "3.12.4"
  },
  "latex_envs": {
   "LaTeX_envs_menu_present": true,
   "autoclose": false,
   "autocomplete": true,
   "bibliofile": "biblio.bib",
   "cite_by": "apalike",
   "current_citInitial": 1,
   "eqLabelWithNumbers": true,
   "eqNumInitial": 1,
   "hotkeys": {
    "equation": "Ctrl-E",
    "itemize": "Ctrl-I"
   },
   "labels_anchors": false,
   "latex_user_defs": false,
   "report_style_numbering": false,
   "user_envs_cfg": false
  }
 },
 "nbformat": 4,
 "nbformat_minor": 5
}
