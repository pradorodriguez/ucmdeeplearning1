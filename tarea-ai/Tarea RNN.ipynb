{
 "cells": [
  {
   "cell_type": "markdown",
   "id": "prospective-america",
   "metadata": {
    "id": "prospective-america"
   },
   "source": [
    "Dado que el entrenamiento de redes neuronales es una tarea  muy costosa, **se recomienda ejecutar el notebooks en [Google Colab](https://colab.research.google.com)**, por supuesto también se puede ejecutar en local.\n",
    "\n",
    "Al entrar en [Google Colab](https://colab.research.google.com) bastará con hacer click en `upload` y subir este notebook. No olvide luego descargarlo en `File->Download .ipynb`\n",
    "\n",
    "**El examen deberá ser entregado con las celdas ejecutadas, si alguna celda no está ejecutadas no se contará.**"
   ]
  },
  {
   "cell_type": "markdown",
   "id": "novel-stewart",
   "metadata": {
    "id": "novel-stewart"
   },
   "source": [
    "El examen se divide en tres partes, con la puntuación que se indica a continuación. La puntuación máxima será 10.\n",
    "\n",
    "    \n",
    "- [Actividad 1: Redes Recurrentes](#actividad_1): 10 pts\n",
    "    - [Cuestión 1](#3.1): 2.5 pt\n",
    "    - [Cuestión 2](#3.2): 2.5 pt\n",
    "    - [Cuestión 3](#3.3): 2.5 pts\n",
    "    - [Cuestión 4](#3.4): 1.25 pts\n",
    "    - [Cuestión 5](#3.5): 1.25 pts\n",
    "\n"
   ]
  },
  {
   "cell_type": "code",
   "execution_count": 1,
   "id": "prompt-developer",
   "metadata": {
    "id": "prompt-developer"
   },
   "outputs": [
    {
     "name": "stderr",
     "output_type": "stream",
     "text": [
      "2025-06-19 10:38:02.772356: I tensorflow/core/platform/cpu_feature_guard.cc:193] This TensorFlow binary is optimized with oneAPI Deep Neural Network Library (oneDNN) to use the following CPU instructions in performance-critical operations:  AVX2 FMA\n",
      "To enable them in other operations, rebuild TensorFlow with the appropriate compiler flags.\n",
      "2025-06-19 10:38:02.881681: W tensorflow/compiler/xla/stream_executor/platform/default/dso_loader.cc:64] Could not load dynamic library 'libcudart.so.11.0'; dlerror: libcudart.so.11.0: cannot open shared object file: No such file or directory\n",
      "2025-06-19 10:38:02.881709: I tensorflow/compiler/xla/stream_executor/cuda/cudart_stub.cc:29] Ignore above cudart dlerror if you do not have a GPU set up on your machine.\n",
      "2025-06-19 10:38:03.579021: W tensorflow/compiler/xla/stream_executor/platform/default/dso_loader.cc:64] Could not load dynamic library 'libnvinfer.so.7'; dlerror: libnvinfer.so.7: cannot open shared object file: No such file or directory\n",
      "2025-06-19 10:38:03.579114: W tensorflow/compiler/xla/stream_executor/platform/default/dso_loader.cc:64] Could not load dynamic library 'libnvinfer_plugin.so.7'; dlerror: libnvinfer_plugin.so.7: cannot open shared object file: No such file or directory\n",
      "2025-06-19 10:38:03.579127: W tensorflow/compiler/tf2tensorrt/utils/py_utils.cc:38] TF-TRT Warning: Cannot dlopen some TensorRT libraries. If you would like to use Nvidia GPU with TensorRT, please make sure the missing libraries mentioned above are installed properly.\n"
     ]
    }
   ],
   "source": [
    "import tensorflow as tf\n",
    "from tensorflow import keras\n",
    "from tensorflow.keras import layers\n",
    "import matplotlib.pyplot as plt\n",
    "import pandas as pd\n",
    "import numpy as np"
   ]
  },
  {
   "cell_type": "markdown",
   "id": "regional-favorite",
   "metadata": {
    "id": "regional-favorite"
   },
   "source": [
    "<a name='actividad_1'></a>\n",
    "# Actividad 1: Redes Recurrentes\n",
    "\n",
    "\n",
    "- [Cuestión 1](#3.1): 2.5 pt\n",
    "- [Cuestión 2](#3.2): 2.5 pt\n",
    "- [Cuestión 3](#3.3): 2.5 pts\n",
    "- [Cuestión 4](#3.4): 1.25 pts\n",
    "- [Cuestión 5](#3.5): 1.25 pts\n",
    "\n",
    "Vamos a usar un dataset de las temperaturas mínimas diarias en Melbourne. La tarea será la de predecir la temperatura mínima en dos días. Puedes usar técnicas de series temporales vistas en otras asignaturas, pero no es necesario.\n"
   ]
  },
  {
   "cell_type": "code",
   "execution_count": 2,
   "id": "empty-value",
   "metadata": {
    "id": "empty-value"
   },
   "outputs": [],
   "source": [
    "dataset_url = 'https://raw.githubusercontent.com/jbrownlee/Datasets/master/daily-min-temperatures.csv'\n",
    "data_dir = tf.keras.utils.get_file('daily-min-temperatures.csv', origin=dataset_url)"
   ]
  },
  {
   "cell_type": "code",
   "execution_count": 3,
   "id": "numerous-situation",
   "metadata": {
    "id": "numerous-situation"
   },
   "outputs": [
    {
     "data": {
      "text/html": [
       "<div>\n",
       "<style scoped>\n",
       "    .dataframe tbody tr th:only-of-type {\n",
       "        vertical-align: middle;\n",
       "    }\n",
       "\n",
       "    .dataframe tbody tr th {\n",
       "        vertical-align: top;\n",
       "    }\n",
       "\n",
       "    .dataframe thead th {\n",
       "        text-align: right;\n",
       "    }\n",
       "</style>\n",
       "<table border=\"1\" class=\"dataframe\">\n",
       "  <thead>\n",
       "    <tr style=\"text-align: right;\">\n",
       "      <th></th>\n",
       "      <th>Date</th>\n",
       "      <th>Temp</th>\n",
       "    </tr>\n",
       "  </thead>\n",
       "  <tbody>\n",
       "    <tr>\n",
       "      <th>0</th>\n",
       "      <td>1981-01-01</td>\n",
       "      <td>20.7</td>\n",
       "    </tr>\n",
       "    <tr>\n",
       "      <th>1</th>\n",
       "      <td>1981-01-02</td>\n",
       "      <td>17.9</td>\n",
       "    </tr>\n",
       "    <tr>\n",
       "      <th>2</th>\n",
       "      <td>1981-01-03</td>\n",
       "      <td>18.8</td>\n",
       "    </tr>\n",
       "    <tr>\n",
       "      <th>3</th>\n",
       "      <td>1981-01-04</td>\n",
       "      <td>14.6</td>\n",
       "    </tr>\n",
       "    <tr>\n",
       "      <th>4</th>\n",
       "      <td>1981-01-05</td>\n",
       "      <td>15.8</td>\n",
       "    </tr>\n",
       "  </tbody>\n",
       "</table>\n",
       "</div>"
      ],
      "text/plain": [
       "        Date  Temp\n",
       "0 1981-01-01  20.7\n",
       "1 1981-01-02  17.9\n",
       "2 1981-01-03  18.8\n",
       "3 1981-01-04  14.6\n",
       "4 1981-01-05  15.8"
      ]
     },
     "execution_count": 3,
     "metadata": {},
     "output_type": "execute_result"
    }
   ],
   "source": [
    "df = pd.read_csv(data_dir, parse_dates=['Date'])\n",
    "df.head()"
   ]
  },
  {
   "cell_type": "code",
   "execution_count": 4,
   "id": "copyrighted-madonna",
   "metadata": {
    "id": "copyrighted-madonna"
   },
   "outputs": [
    {
     "name": "stdout",
     "output_type": "stream",
     "text": [
      "number of samples: 3650\n",
      "number of train samples: 3000\n",
      "number of test samples: 650\n",
      "firsts trainn samples: [20.7 17.9 18.8 14.6 15.8 15.8 15.8 17.4 21.8 20. ]\n"
     ]
    }
   ],
   "source": [
    "temperatures = df['Temp'].values\n",
    "print('number of samples:', len(temperatures))\n",
    "train_data = temperatures[:3000]\n",
    "test_data = temperatures[3000:]\n",
    "print('number of train samples:', len(train_data))\n",
    "print('number of test samples:', len(test_data))\n",
    "print('firsts trainn samples:', train_data[:10])"
   ]
  },
  {
   "cell_type": "markdown",
   "id": "adapted-brief",
   "metadata": {
    "id": "adapted-brief"
   },
   "source": [
    "<a name='3.1'></a>\n",
    "## Cuestión 1: Convierta `train_data` y `test_data`  en ventanas de tamaño 5, para predecir el valor en 2 días\n",
    "\n",
    "En la nomenclatura de [Introduction_to_RNN_Time_Series.ipynb](https://github.com/ezponda/intro_deep_learning/blob/main/class/RNN/Introduction_to_RNN_Time_Series.ipynb)\n",
    "```python\n",
    "past, future = (5, 2)\n",
    "```\n",
    "\n",
    "Para las primeras 10 muestras de train_data `[20.7, 17.9, 18.8, 14.6, 15.8, 15.8, 15.8, 17.4, 21.8, 20. ]` el resultado debería ser:\n",
    "\n",
    "```python\n",
    "x[0] : [20.7, 17.9, 18.8, 14.6, 15.8] , y[0]: 15.8\n",
    "x[1] : [17.9, 18.8, 14.6, 15.8, 15.8] , y[1]: 17.4\n",
    "x[2] : [18.8, 14.6, 15.8, 15.8, 15.8] , y[2]: 21.8\n",
    "x[3] : [14.6, 15.8, 15.8, 15.8, 17.4] , y[3]: 20.             \n",
    "```"
   ]
  },
  {
   "cell_type": "code",
   "execution_count": 6,
   "id": "conscious-teaching",
   "metadata": {
    "id": "conscious-teaching"
   },
   "outputs": [],
   "source": [
    "def create_windows(data, past, future):\n",
    "    X, y = [], []\n",
    "    for i in range(len(data) - past - future + 1):\n",
    "        X.append(data[i:i+past])\n",
    "        y.append(data[i+past+future-1])\n",
    "    return np.array(X), np.array(y)"
   ]
  },
  {
   "cell_type": "code",
   "execution_count": 7,
   "id": "joint-annotation",
   "metadata": {
    "id": "joint-annotation"
   },
   "outputs": [],
   "source": [
    "past, future = (5, 2)\n",
    "X_train, y_train = create_windows(train_data, past, future)\n",
    "X_test, y_test = create_windows(test_data, past, future)"
   ]
  },
  {
   "cell_type": "markdown",
   "id": "electrical-junior",
   "metadata": {
    "id": "electrical-junior"
   },
   "source": [
    "<a name='3.2'></a>\n",
    "## Cuestión 2: Cree un modelo recurrente de dos capas GRU para predecir con las ventanas de la cuestión anterior.\n"
   ]
  },
  {
   "cell_type": "code",
   "execution_count": null,
   "id": "aboriginal-complaint",
   "metadata": {
    "id": "aboriginal-complaint"
   },
   "outputs": [
    {
     "name": "stderr",
     "output_type": "stream",
     "text": [
      "2025-06-19 10:49:39.334425: W tensorflow/compiler/xla/stream_executor/platform/default/dso_loader.cc:64] Could not load dynamic library 'libcuda.so.1'; dlerror: libcuda.so.1: cannot open shared object file: No such file or directory\n",
      "2025-06-19 10:49:39.334464: W tensorflow/compiler/xla/stream_executor/cuda/cuda_driver.cc:265] failed call to cuInit: UNKNOWN ERROR (303)\n",
      "2025-06-19 10:49:39.334487: I tensorflow/compiler/xla/stream_executor/cuda/cuda_diagnostics.cc:156] kernel driver does not appear to be running on this host (codespaces-1cf422): /proc/driver/nvidia/version does not exist\n",
      "2025-06-19 10:49:39.334746: I tensorflow/core/platform/cpu_feature_guard.cc:193] This TensorFlow binary is optimized with oneAPI Deep Neural Network Library (oneDNN) to use the following CPU instructions in performance-critical operations:  AVX2 FMA\n",
      "To enable them in other operations, rebuild TensorFlow with the appropriate compiler flags.\n"
     ]
    },
    {
     "name": "stdout",
     "output_type": "stream",
     "text": [
      "Model: \"model\"\n",
      "_________________________________________________________________\n",
      " Layer (type)                Output Shape              Param #   \n",
      "=================================================================\n",
      " input_1 (InputLayer)        [(None, 5, 1)]            0         \n",
      "                                                                 \n",
      " gru (GRU)                   (None, 5, 32)             3360      \n",
      "                                                                 \n",
      " gru_1 (GRU)                 (None, 16)                2400      \n",
      "                                                                 \n",
      " dense (Dense)               (None, 1)                 17        \n",
      "                                                                 \n",
      "=================================================================\n",
      "Total params: 5,777\n",
      "Trainable params: 5,777\n",
      "Non-trainable params: 0\n",
      "_________________________________________________________________\n"
     ]
    }
   ],
   "source": [
    "inputs = keras.layers.Input(shape=(X_train.shape[1], 1))\n",
    "x = layers.GRU(32, return_sequences=True)(inputs)\n",
    "x = layers.GRU(16)(x)\n",
    "outputs = layers.Dense(1)(x)\n",
    "model = keras.Model(inputs=inputs, outputs=outputs)\n",
    "model.compile(optimizer='adam', loss='mse')\n",
    "model.summary()"
   ]
  },
  {
   "cell_type": "code",
   "execution_count": 9,
   "id": "applicable-longer",
   "metadata": {
    "id": "applicable-longer"
   },
   "outputs": [
    {
     "name": "stdout",
     "output_type": "stream",
     "text": [
      "Epoch 1/200\n",
      "38/38 [==============================] - 3s 17ms/step - loss: 97.5175 - val_loss: 80.4796\n",
      "Epoch 2/200\n",
      "38/38 [==============================] - 0s 4ms/step - loss: 50.4376 - val_loss: 53.4366\n",
      "Epoch 3/200\n",
      "38/38 [==============================] - 0s 4ms/step - loss: 36.7999 - val_loss: 43.7483\n",
      "Epoch 4/200\n",
      "38/38 [==============================] - 0s 4ms/step - loss: 31.1561 - val_loss: 37.7762\n",
      "Epoch 5/200\n",
      "38/38 [==============================] - 0s 4ms/step - loss: 27.2894 - val_loss: 33.1836\n",
      "Epoch 6/200\n",
      "38/38 [==============================] - 0s 4ms/step - loss: 24.3873 - val_loss: 29.5275\n",
      "Epoch 7/200\n",
      "38/38 [==============================] - 0s 4ms/step - loss: 22.2041 - val_loss: 26.6133\n",
      "Epoch 8/200\n",
      "38/38 [==============================] - 0s 4ms/step - loss: 20.5962 - val_loss: 24.2838\n",
      "Epoch 9/200\n",
      "38/38 [==============================] - 0s 4ms/step - loss: 19.4158 - val_loss: 22.5549\n",
      "Epoch 10/200\n",
      "38/38 [==============================] - 0s 4ms/step - loss: 18.5887 - val_loss: 21.1490\n",
      "Epoch 11/200\n",
      "38/38 [==============================] - 0s 4ms/step - loss: 17.9742 - val_loss: 20.1119\n",
      "Epoch 12/200\n",
      "38/38 [==============================] - 0s 4ms/step - loss: 17.5407 - val_loss: 19.2832\n",
      "Epoch 13/200\n",
      "38/38 [==============================] - 0s 4ms/step - loss: 17.1374 - val_loss: 18.6008\n",
      "Epoch 14/200\n",
      "38/38 [==============================] - 0s 4ms/step - loss: 15.9060 - val_loss: 17.5981\n",
      "Epoch 15/200\n",
      "38/38 [==============================] - 0s 4ms/step - loss: 14.2732 - val_loss: 16.3850\n",
      "Epoch 16/200\n",
      "38/38 [==============================] - 0s 4ms/step - loss: 13.3183 - val_loss: 15.0559\n",
      "Epoch 17/200\n",
      "38/38 [==============================] - 0s 4ms/step - loss: 12.5824 - val_loss: 14.0931\n",
      "Epoch 18/200\n",
      "38/38 [==============================] - 0s 4ms/step - loss: 12.0447 - val_loss: 13.2335\n",
      "Epoch 19/200\n",
      "38/38 [==============================] - 0s 4ms/step - loss: 11.3933 - val_loss: 12.6140\n",
      "Epoch 20/200\n",
      "38/38 [==============================] - 0s 4ms/step - loss: 10.9949 - val_loss: 11.8743\n",
      "Epoch 21/200\n",
      "38/38 [==============================] - 0s 4ms/step - loss: 10.6168 - val_loss: 11.5900\n",
      "Epoch 22/200\n",
      "38/38 [==============================] - 0s 4ms/step - loss: 10.3565 - val_loss: 11.1000\n",
      "Epoch 23/200\n",
      "38/38 [==============================] - 0s 4ms/step - loss: 10.0908 - val_loss: 10.6928\n",
      "Epoch 24/200\n",
      "38/38 [==============================] - 0s 4ms/step - loss: 9.9676 - val_loss: 10.4225\n",
      "Epoch 25/200\n",
      "38/38 [==============================] - 0s 4ms/step - loss: 9.7572 - val_loss: 10.3701\n",
      "Epoch 26/200\n",
      "38/38 [==============================] - 0s 4ms/step - loss: 9.6465 - val_loss: 9.8723\n",
      "Epoch 27/200\n",
      "38/38 [==============================] - 0s 4ms/step - loss: 9.5486 - val_loss: 9.8584\n",
      "Epoch 28/200\n",
      "38/38 [==============================] - 0s 4ms/step - loss: 9.4544 - val_loss: 9.8550\n",
      "Epoch 29/200\n",
      "38/38 [==============================] - 0s 4ms/step - loss: 9.3637 - val_loss: 9.5131\n",
      "Epoch 30/200\n",
      "38/38 [==============================] - 0s 4ms/step - loss: 9.3340 - val_loss: 9.5702\n",
      "Epoch 31/200\n",
      "38/38 [==============================] - 0s 4ms/step - loss: 9.2226 - val_loss: 9.2744\n",
      "Epoch 32/200\n",
      "38/38 [==============================] - 0s 4ms/step - loss: 9.2001 - val_loss: 9.3235\n",
      "Epoch 33/200\n",
      "38/38 [==============================] - 0s 4ms/step - loss: 9.1302 - val_loss: 9.1661\n",
      "Epoch 34/200\n",
      "38/38 [==============================] - 0s 4ms/step - loss: 9.0632 - val_loss: 9.1899\n",
      "Epoch 35/200\n",
      "38/38 [==============================] - 0s 4ms/step - loss: 9.0311 - val_loss: 8.9725\n",
      "Epoch 36/200\n",
      "38/38 [==============================] - 0s 4ms/step - loss: 9.0061 - val_loss: 8.8468\n",
      "Epoch 37/200\n",
      "38/38 [==============================] - 0s 4ms/step - loss: 9.0039 - val_loss: 9.1011\n",
      "Epoch 38/200\n",
      "38/38 [==============================] - 0s 4ms/step - loss: 8.9273 - val_loss: 8.9618\n",
      "Epoch 39/200\n",
      "38/38 [==============================] - 0s 4ms/step - loss: 8.9267 - val_loss: 8.8609\n",
      "Epoch 40/200\n",
      "38/38 [==============================] - 0s 4ms/step - loss: 8.9000 - val_loss: 8.8119\n",
      "Epoch 41/200\n",
      "38/38 [==============================] - 0s 4ms/step - loss: 8.8980 - val_loss: 8.7962\n",
      "Epoch 42/200\n",
      "38/38 [==============================] - 0s 4ms/step - loss: 8.8343 - val_loss: 8.8186\n",
      "Epoch 43/200\n",
      "38/38 [==============================] - 0s 4ms/step - loss: 8.8514 - val_loss: 8.6261\n",
      "Epoch 44/200\n",
      "38/38 [==============================] - 0s 4ms/step - loss: 8.7886 - val_loss: 8.7821\n",
      "Epoch 45/200\n",
      "38/38 [==============================] - 0s 4ms/step - loss: 8.8031 - val_loss: 8.5156\n",
      "Epoch 46/200\n",
      "38/38 [==============================] - 0s 4ms/step - loss: 8.7885 - val_loss: 8.5750\n",
      "Epoch 47/200\n",
      "38/38 [==============================] - 0s 4ms/step - loss: 8.7375 - val_loss: 8.4969\n",
      "Epoch 48/200\n",
      "38/38 [==============================] - 0s 4ms/step - loss: 8.7616 - val_loss: 8.7706\n",
      "Epoch 49/200\n",
      "38/38 [==============================] - 0s 4ms/step - loss: 8.7436 - val_loss: 8.6158\n",
      "Epoch 50/200\n",
      "38/38 [==============================] - 0s 4ms/step - loss: 8.7413 - val_loss: 8.5525\n",
      "Epoch 51/200\n",
      "38/38 [==============================] - 0s 4ms/step - loss: 8.6880 - val_loss: 8.4616\n",
      "Epoch 52/200\n",
      "38/38 [==============================] - 0s 4ms/step - loss: 8.6692 - val_loss: 8.7359\n",
      "Epoch 53/200\n",
      "38/38 [==============================] - 0s 4ms/step - loss: 8.6715 - val_loss: 8.4349\n",
      "Epoch 54/200\n",
      "38/38 [==============================] - 0s 4ms/step - loss: 8.6417 - val_loss: 8.6759\n",
      "Epoch 55/200\n",
      "38/38 [==============================] - 0s 4ms/step - loss: 8.6858 - val_loss: 8.4546\n",
      "Epoch 56/200\n",
      "38/38 [==============================] - 0s 4ms/step - loss: 8.6314 - val_loss: 8.3972\n",
      "Epoch 57/200\n",
      "38/38 [==============================] - 0s 4ms/step - loss: 8.6673 - val_loss: 8.4337\n",
      "Epoch 58/200\n",
      "38/38 [==============================] - 0s 4ms/step - loss: 8.6494 - val_loss: 8.3567\n",
      "Epoch 59/200\n",
      "38/38 [==============================] - 0s 4ms/step - loss: 8.6292 - val_loss: 8.3352\n",
      "Epoch 60/200\n",
      "38/38 [==============================] - 0s 4ms/step - loss: 8.6303 - val_loss: 8.4555\n",
      "Epoch 61/200\n",
      "38/38 [==============================] - 0s 4ms/step - loss: 8.5878 - val_loss: 8.5080\n",
      "Epoch 62/200\n",
      "38/38 [==============================] - 0s 4ms/step - loss: 8.6228 - val_loss: 8.3206\n",
      "Epoch 63/200\n",
      "38/38 [==============================] - 0s 4ms/step - loss: 8.6013 - val_loss: 8.3206\n",
      "Epoch 64/200\n",
      "38/38 [==============================] - 0s 4ms/step - loss: 8.5801 - val_loss: 8.4923\n",
      "Epoch 65/200\n",
      "38/38 [==============================] - 0s 4ms/step - loss: 8.5807 - val_loss: 8.3380\n",
      "Epoch 66/200\n",
      "38/38 [==============================] - 0s 4ms/step - loss: 8.6209 - val_loss: 8.4709\n",
      "Epoch 67/200\n",
      "38/38 [==============================] - 0s 4ms/step - loss: 8.5578 - val_loss: 8.5816\n",
      "Epoch 68/200\n",
      "38/38 [==============================] - 0s 4ms/step - loss: 8.5777 - val_loss: 8.3306\n",
      "Epoch 69/200\n",
      "38/38 [==============================] - 0s 4ms/step - loss: 8.5290 - val_loss: 8.4945\n",
      "Epoch 70/200\n",
      "38/38 [==============================] - 0s 4ms/step - loss: 8.5712 - val_loss: 8.2851\n",
      "Epoch 71/200\n",
      "38/38 [==============================] - 0s 4ms/step - loss: 8.5548 - val_loss: 8.4225\n",
      "Epoch 72/200\n",
      "38/38 [==============================] - 0s 4ms/step - loss: 8.5091 - val_loss: 8.6049\n",
      "Epoch 73/200\n",
      "38/38 [==============================] - 0s 4ms/step - loss: 8.5468 - val_loss: 8.2709\n",
      "Epoch 74/200\n",
      "38/38 [==============================] - 0s 5ms/step - loss: 8.5293 - val_loss: 8.2588\n",
      "Epoch 75/200\n",
      "38/38 [==============================] - 0s 4ms/step - loss: 8.5629 - val_loss: 8.2849\n",
      "Epoch 76/200\n",
      "38/38 [==============================] - 0s 4ms/step - loss: 8.5297 - val_loss: 8.3843\n",
      "Epoch 77/200\n",
      "38/38 [==============================] - 0s 4ms/step - loss: 8.5289 - val_loss: 8.5910\n",
      "Epoch 78/200\n",
      "38/38 [==============================] - 0s 4ms/step - loss: 8.5235 - val_loss: 8.3611\n",
      "Epoch 79/200\n",
      "38/38 [==============================] - 0s 4ms/step - loss: 8.5076 - val_loss: 8.4689\n",
      "Epoch 80/200\n",
      "38/38 [==============================] - 0s 4ms/step - loss: 8.5182 - val_loss: 8.2954\n",
      "Epoch 81/200\n",
      "38/38 [==============================] - 0s 4ms/step - loss: 8.5083 - val_loss: 8.4044\n",
      "Epoch 82/200\n",
      "38/38 [==============================] - 0s 4ms/step - loss: 8.4997 - val_loss: 8.4060\n",
      "Epoch 83/200\n",
      "38/38 [==============================] - 0s 4ms/step - loss: 8.5177 - val_loss: 8.2378\n",
      "Epoch 84/200\n",
      "38/38 [==============================] - 0s 4ms/step - loss: 8.4899 - val_loss: 8.4686\n",
      "Epoch 85/200\n",
      "38/38 [==============================] - 0s 4ms/step - loss: 8.4757 - val_loss: 8.6165\n",
      "Epoch 86/200\n",
      "38/38 [==============================] - 0s 4ms/step - loss: 8.4948 - val_loss: 8.3023\n",
      "Epoch 87/200\n",
      "38/38 [==============================] - 0s 4ms/step - loss: 8.4728 - val_loss: 8.2647\n",
      "Epoch 88/200\n",
      "38/38 [==============================] - 0s 4ms/step - loss: 8.5802 - val_loss: 8.3937\n",
      "Epoch 89/200\n",
      "38/38 [==============================] - 0s 4ms/step - loss: 8.5071 - val_loss: 8.2961\n",
      "Epoch 90/200\n",
      "38/38 [==============================] - 0s 4ms/step - loss: 8.5044 - val_loss: 8.3028\n",
      "Epoch 91/200\n",
      "38/38 [==============================] - 0s 4ms/step - loss: 8.5142 - val_loss: 8.2293\n",
      "Epoch 92/200\n",
      "38/38 [==============================] - 0s 5ms/step - loss: 8.5372 - val_loss: 8.4375\n",
      "Epoch 93/200\n",
      "38/38 [==============================] - 0s 5ms/step - loss: 8.5132 - val_loss: 8.2422\n",
      "Epoch 94/200\n",
      "38/38 [==============================] - 0s 5ms/step - loss: 8.4389 - val_loss: 8.2001\n",
      "Epoch 95/200\n",
      "38/38 [==============================] - 0s 4ms/step - loss: 8.5180 - val_loss: 8.2307\n",
      "Epoch 96/200\n",
      "38/38 [==============================] - 0s 4ms/step - loss: 8.4582 - val_loss: 8.5660\n",
      "Epoch 97/200\n",
      "38/38 [==============================] - 0s 4ms/step - loss: 8.4946 - val_loss: 8.2397\n",
      "Epoch 98/200\n",
      "38/38 [==============================] - 0s 4ms/step - loss: 8.4355 - val_loss: 8.4095\n",
      "Epoch 99/200\n",
      "38/38 [==============================] - 0s 4ms/step - loss: 8.4332 - val_loss: 8.2500\n",
      "Epoch 100/200\n",
      "38/38 [==============================] - 0s 4ms/step - loss: 8.4477 - val_loss: 8.4632\n",
      "Epoch 101/200\n",
      "38/38 [==============================] - 0s 4ms/step - loss: 8.4503 - val_loss: 8.2428\n",
      "Epoch 102/200\n",
      "38/38 [==============================] - 0s 4ms/step - loss: 8.4661 - val_loss: 8.2519\n",
      "Epoch 103/200\n",
      "38/38 [==============================] - 0s 4ms/step - loss: 8.4218 - val_loss: 8.2797\n",
      "Epoch 104/200\n",
      "38/38 [==============================] - 0s 4ms/step - loss: 8.4282 - val_loss: 8.2910\n"
     ]
    }
   ],
   "source": [
    "es_callback = keras.callbacks.EarlyStopping(\n",
    "    monitor=\"val_loss\", min_delta=0, patience=10)\n",
    "\n",
    "history = model.fit(\n",
    "    X_train, y_train,\n",
    "    epochs=200,\n",
    "    validation_split=0.2, shuffle=True, batch_size = 64, callbacks=[es_callback]\n",
    ")"
   ]
  },
  {
   "cell_type": "code",
   "execution_count": 10,
   "id": "stone-province",
   "metadata": {
    "id": "stone-province"
   },
   "outputs": [
    {
     "name": "stdout",
     "output_type": "stream",
     "text": [
      "21/21 [==============================] - 0s 1ms/step - loss: 6.9346\n",
      "Test Loss: 6.934563636779785\n"
     ]
    }
   ],
   "source": [
    "results = model.evaluate(X_test, y_test, verbose=1)\n",
    "print('Test Loss: {}'.format(results))"
   ]
  },
  {
   "cell_type": "markdown",
   "id": "genetic-guitar",
   "metadata": {
    "id": "genetic-guitar"
   },
   "source": [
    "<a name='3.3'></a>\n",
    "## Cuestión 3: Añada más features a la series temporal, por ejemplo `portion_year`. Cree un modelo que mejore al anterior.\n"
   ]
  },
  {
   "cell_type": "code",
   "execution_count": 11,
   "id": "prospective-master",
   "metadata": {
    "id": "prospective-master"
   },
   "outputs": [],
   "source": [
    "## Puede añadir más features\n",
    "df['portion_year'] = df['Date'].dt.dayofyear / 365.0\n",
    "df_multi = df[['Temp', 'portion_year']].copy()\n",
    "\n",
    "## train - test split\n",
    "train_data = df_multi.iloc[:3000].copy()\n",
    "test_data = df_multi.loc[3000:, :].copy()"
   ]
  },
  {
   "cell_type": "code",
   "execution_count": 12,
   "id": "threaded-sheriff",
   "metadata": {
    "id": "threaded-sheriff"
   },
   "outputs": [],
   "source": [
    "## Create windows\n",
    "def create_multi_windows(data, past, future):\n",
    "    X, y = [], []\n",
    "    values = data.values\n",
    "    for i in range(len(values) - past - future + 1):\n",
    "        X.append(values[i:i+past])\n",
    "        y.append(values[i+past+future-1][0])  # target is 'Temp'\n",
    "    return np.array(X), np.array(y)\n",
    "\n",
    "X_train, y_train = create_multi_windows(train_data, past, future)\n",
    "X_test, y_test = create_multi_windows(test_data, past, future)"
   ]
  },
  {
   "cell_type": "code",
   "execution_count": 13,
   "id": "stable-estate",
   "metadata": {
    "id": "stable-estate"
   },
   "outputs": [
    {
     "name": "stdout",
     "output_type": "stream",
     "text": [
      "Model: \"model_1\"\n",
      "_________________________________________________________________\n",
      " Layer (type)                Output Shape              Param #   \n",
      "=================================================================\n",
      " input_2 (InputLayer)        [(None, 5, 2)]            0         \n",
      "                                                                 \n",
      " gru_2 (GRU)                 (None, 5, 32)             3456      \n",
      "                                                                 \n",
      " gru_3 (GRU)                 (None, 16)                2400      \n",
      "                                                                 \n",
      " dense_1 (Dense)             (None, 1)                 17        \n",
      "                                                                 \n",
      "=================================================================\n",
      "Total params: 5,873\n",
      "Trainable params: 5,873\n",
      "Non-trainable params: 0\n",
      "_________________________________________________________________\n"
     ]
    }
   ],
   "source": [
    "inputs = keras.layers.Input(shape=(X_train.shape[1], X_train.shape[2]))\n",
    "x = layers.GRU(32, return_sequences=True)(inputs)\n",
    "x = layers.GRU(16)(x)\n",
    "outputs = layers.Dense(1)(x)\n",
    "model = keras.Model(inputs=inputs, outputs=outputs)\n",
    "model.compile(optimizer='adam', loss='mse')\n",
    "model.summary()"
   ]
  },
  {
   "cell_type": "code",
   "execution_count": 14,
   "id": "structured-philip",
   "metadata": {
    "id": "structured-philip"
   },
   "outputs": [
    {
     "name": "stdout",
     "output_type": "stream",
     "text": [
      "Epoch 1/200\n",
      "38/38 [==============================] - 3s 17ms/step - loss: 112.9391 - val_loss: 98.3845\n",
      "Epoch 2/200\n",
      "38/38 [==============================] - 0s 5ms/step - loss: 66.1965 - val_loss: 73.8562\n",
      "Epoch 3/200\n",
      "38/38 [==============================] - 0s 4ms/step - loss: 52.8861 - val_loss: 62.5856\n",
      "Epoch 4/200\n",
      "38/38 [==============================] - 0s 4ms/step - loss: 44.9291 - val_loss: 54.1231\n",
      "Epoch 5/200\n",
      "38/38 [==============================] - 0s 4ms/step - loss: 38.8159 - val_loss: 47.2922\n",
      "Epoch 6/200\n",
      "38/38 [==============================] - 0s 4ms/step - loss: 33.9767 - val_loss: 41.6160\n",
      "Epoch 7/200\n",
      "38/38 [==============================] - 0s 4ms/step - loss: 30.0743 - val_loss: 36.9636\n",
      "Epoch 8/200\n",
      "38/38 [==============================] - 0s 4ms/step - loss: 26.9771 - val_loss: 33.0636\n",
      "Epoch 9/200\n",
      "38/38 [==============================] - 0s 4ms/step - loss: 24.5106 - val_loss: 29.8811\n",
      "Epoch 10/200\n",
      "38/38 [==============================] - 0s 4ms/step - loss: 22.5641 - val_loss: 27.2990\n",
      "Epoch 11/200\n",
      "38/38 [==============================] - 0s 4ms/step - loss: 21.0789 - val_loss: 25.1687\n",
      "Epoch 12/200\n",
      "38/38 [==============================] - 0s 4ms/step - loss: 19.9245 - val_loss: 23.4606\n",
      "Epoch 13/200\n",
      "38/38 [==============================] - 0s 4ms/step - loss: 19.0718 - val_loss: 22.0277\n",
      "Epoch 14/200\n",
      "38/38 [==============================] - 0s 4ms/step - loss: 18.4208 - val_loss: 20.9754\n",
      "Epoch 15/200\n",
      "38/38 [==============================] - 0s 4ms/step - loss: 17.9674 - val_loss: 20.0738\n",
      "Epoch 16/200\n",
      "38/38 [==============================] - 0s 4ms/step - loss: 17.6202 - val_loss: 19.4061\n",
      "Epoch 17/200\n",
      "38/38 [==============================] - 0s 4ms/step - loss: 17.3299 - val_loss: 18.8243\n",
      "Epoch 18/200\n",
      "38/38 [==============================] - 0s 4ms/step - loss: 16.3427 - val_loss: 17.8817\n",
      "Epoch 19/200\n",
      "38/38 [==============================] - 0s 4ms/step - loss: 14.5870 - val_loss: 16.6521\n",
      "Epoch 20/200\n",
      "38/38 [==============================] - 0s 4ms/step - loss: 13.7054 - val_loss: 15.6459\n",
      "Epoch 21/200\n",
      "38/38 [==============================] - 0s 4ms/step - loss: 12.9997 - val_loss: 14.7167\n",
      "Epoch 22/200\n",
      "38/38 [==============================] - 0s 4ms/step - loss: 12.4023 - val_loss: 13.9570\n",
      "Epoch 23/200\n",
      "38/38 [==============================] - 0s 4ms/step - loss: 11.8782 - val_loss: 13.1242\n",
      "Epoch 24/200\n",
      "38/38 [==============================] - 0s 4ms/step - loss: 11.4597 - val_loss: 12.7758\n",
      "Epoch 25/200\n",
      "38/38 [==============================] - 0s 4ms/step - loss: 11.0804 - val_loss: 12.2050\n",
      "Epoch 26/200\n",
      "38/38 [==============================] - 0s 4ms/step - loss: 10.7416 - val_loss: 11.7570\n",
      "Epoch 27/200\n",
      "38/38 [==============================] - 0s 4ms/step - loss: 10.4943 - val_loss: 11.4441\n",
      "Epoch 28/200\n",
      "38/38 [==============================] - 0s 4ms/step - loss: 10.3486 - val_loss: 10.9092\n",
      "Epoch 29/200\n",
      "38/38 [==============================] - 0s 5ms/step - loss: 10.1086 - val_loss: 10.6342\n",
      "Epoch 30/200\n",
      "38/38 [==============================] - 0s 4ms/step - loss: 9.9972 - val_loss: 10.5993\n",
      "Epoch 31/200\n",
      "38/38 [==============================] - 0s 4ms/step - loss: 9.7316 - val_loss: 10.1654\n",
      "Epoch 32/200\n",
      "38/38 [==============================] - 0s 4ms/step - loss: 9.6307 - val_loss: 9.9996\n",
      "Epoch 33/200\n",
      "38/38 [==============================] - 0s 4ms/step - loss: 9.5525 - val_loss: 9.8778\n",
      "Epoch 34/200\n",
      "38/38 [==============================] - 0s 4ms/step - loss: 9.4325 - val_loss: 9.6134\n",
      "Epoch 35/200\n",
      "38/38 [==============================] - 0s 4ms/step - loss: 9.4042 - val_loss: 9.5132\n",
      "Epoch 36/200\n",
      "38/38 [==============================] - 0s 4ms/step - loss: 9.2932 - val_loss: 9.6561\n",
      "Epoch 37/200\n",
      "38/38 [==============================] - 0s 4ms/step - loss: 9.2998 - val_loss: 9.4480\n",
      "Epoch 38/200\n",
      "38/38 [==============================] - 0s 4ms/step - loss: 9.1482 - val_loss: 9.5540\n",
      "Epoch 39/200\n",
      "38/38 [==============================] - 0s 4ms/step - loss: 9.1498 - val_loss: 9.3193\n",
      "Epoch 40/200\n",
      "38/38 [==============================] - 0s 4ms/step - loss: 9.0672 - val_loss: 9.1794\n",
      "Epoch 41/200\n",
      "38/38 [==============================] - 0s 4ms/step - loss: 9.0214 - val_loss: 8.9696\n",
      "Epoch 42/200\n",
      "38/38 [==============================] - 0s 4ms/step - loss: 8.9508 - val_loss: 9.3229\n",
      "Epoch 43/200\n",
      "38/38 [==============================] - 0s 4ms/step - loss: 8.9470 - val_loss: 9.0077\n",
      "Epoch 44/200\n",
      "38/38 [==============================] - 0s 4ms/step - loss: 8.9349 - val_loss: 8.8964\n",
      "Epoch 45/200\n",
      "38/38 [==============================] - 0s 4ms/step - loss: 8.9136 - val_loss: 8.8102\n",
      "Epoch 46/200\n",
      "38/38 [==============================] - 0s 4ms/step - loss: 8.8358 - val_loss: 8.8892\n",
      "Epoch 47/200\n",
      "38/38 [==============================] - 0s 4ms/step - loss: 8.8022 - val_loss: 8.7479\n",
      "Epoch 48/200\n",
      "38/38 [==============================] - 0s 4ms/step - loss: 8.8027 - val_loss: 8.7134\n",
      "Epoch 49/200\n",
      "38/38 [==============================] - 0s 4ms/step - loss: 8.7928 - val_loss: 8.6664\n",
      "Epoch 50/200\n",
      "38/38 [==============================] - 0s 5ms/step - loss: 8.7915 - val_loss: 8.8448\n",
      "Epoch 51/200\n",
      "38/38 [==============================] - 0s 4ms/step - loss: 8.7431 - val_loss: 8.7200\n",
      "Epoch 52/200\n",
      "38/38 [==============================] - 0s 4ms/step - loss: 8.7162 - val_loss: 8.6837\n",
      "Epoch 53/200\n",
      "38/38 [==============================] - 0s 4ms/step - loss: 8.7230 - val_loss: 8.6465\n",
      "Epoch 54/200\n",
      "38/38 [==============================] - 0s 4ms/step - loss: 8.6797 - val_loss: 8.5759\n",
      "Epoch 55/200\n",
      "38/38 [==============================] - 0s 4ms/step - loss: 8.6840 - val_loss: 8.7170\n",
      "Epoch 56/200\n",
      "38/38 [==============================] - 0s 4ms/step - loss: 8.7082 - val_loss: 8.9510\n",
      "Epoch 57/200\n",
      "38/38 [==============================] - 0s 4ms/step - loss: 8.7011 - val_loss: 8.6309\n",
      "Epoch 58/200\n",
      "38/38 [==============================] - 0s 4ms/step - loss: 8.6495 - val_loss: 8.4203\n",
      "Epoch 59/200\n",
      "38/38 [==============================] - 0s 4ms/step - loss: 8.6613 - val_loss: 8.6558\n",
      "Epoch 60/200\n",
      "38/38 [==============================] - 0s 4ms/step - loss: 8.6585 - val_loss: 8.5826\n",
      "Epoch 61/200\n",
      "38/38 [==============================] - 0s 5ms/step - loss: 8.6238 - val_loss: 8.4709\n",
      "Epoch 62/200\n",
      "38/38 [==============================] - 0s 4ms/step - loss: 8.6327 - val_loss: 8.4730\n",
      "Epoch 63/200\n",
      "38/38 [==============================] - 0s 4ms/step - loss: 8.5778 - val_loss: 8.6000\n",
      "Epoch 64/200\n",
      "38/38 [==============================] - 0s 4ms/step - loss: 8.5971 - val_loss: 8.3578\n",
      "Epoch 65/200\n",
      "38/38 [==============================] - 0s 4ms/step - loss: 8.5715 - val_loss: 8.3994\n",
      "Epoch 66/200\n",
      "38/38 [==============================] - 0s 4ms/step - loss: 8.5721 - val_loss: 8.6647\n",
      "Epoch 67/200\n",
      "38/38 [==============================] - 0s 4ms/step - loss: 8.6094 - val_loss: 8.3414\n",
      "Epoch 68/200\n",
      "38/38 [==============================] - 0s 4ms/step - loss: 8.5457 - val_loss: 8.3835\n",
      "Epoch 69/200\n",
      "38/38 [==============================] - 0s 4ms/step - loss: 8.6003 - val_loss: 8.3024\n",
      "Epoch 70/200\n",
      "38/38 [==============================] - 0s 4ms/step - loss: 8.5777 - val_loss: 8.2928\n",
      "Epoch 71/200\n",
      "38/38 [==============================] - 0s 4ms/step - loss: 8.5623 - val_loss: 8.2995\n",
      "Epoch 72/200\n",
      "38/38 [==============================] - 0s 4ms/step - loss: 8.5767 - val_loss: 8.6110\n",
      "Epoch 73/200\n",
      "38/38 [==============================] - 0s 4ms/step - loss: 8.4850 - val_loss: 8.2712\n",
      "Epoch 74/200\n",
      "38/38 [==============================] - 0s 4ms/step - loss: 8.5408 - val_loss: 8.5846\n",
      "Epoch 75/200\n",
      "38/38 [==============================] - 0s 4ms/step - loss: 8.5321 - val_loss: 8.2273\n",
      "Epoch 76/200\n",
      "38/38 [==============================] - 0s 4ms/step - loss: 8.4977 - val_loss: 8.5574\n",
      "Epoch 77/200\n",
      "38/38 [==============================] - 0s 4ms/step - loss: 8.5527 - val_loss: 8.3265\n",
      "Epoch 78/200\n",
      "38/38 [==============================] - 0s 4ms/step - loss: 8.4833 - val_loss: 8.2428\n",
      "Epoch 79/200\n",
      "38/38 [==============================] - 0s 4ms/step - loss: 8.4874 - val_loss: 8.5165\n",
      "Epoch 80/200\n",
      "38/38 [==============================] - 0s 4ms/step - loss: 8.4821 - val_loss: 8.2516\n",
      "Epoch 81/200\n",
      "38/38 [==============================] - 0s 4ms/step - loss: 8.4496 - val_loss: 8.2934\n",
      "Epoch 82/200\n",
      "38/38 [==============================] - 0s 4ms/step - loss: 8.4650 - val_loss: 8.3861\n",
      "Epoch 83/200\n",
      "38/38 [==============================] - 0s 4ms/step - loss: 8.4263 - val_loss: 8.1987\n",
      "Epoch 84/200\n",
      "38/38 [==============================] - 0s 4ms/step - loss: 8.4510 - val_loss: 8.2470\n",
      "Epoch 85/200\n",
      "38/38 [==============================] - 0s 4ms/step - loss: 8.4415 - val_loss: 8.1803\n",
      "Epoch 86/200\n",
      "38/38 [==============================] - 0s 4ms/step - loss: 8.4544 - val_loss: 8.1502\n",
      "Epoch 87/200\n",
      "38/38 [==============================] - 0s 4ms/step - loss: 8.4169 - val_loss: 8.4022\n",
      "Epoch 88/200\n",
      "38/38 [==============================] - 0s 4ms/step - loss: 8.3850 - val_loss: 8.4975\n",
      "Epoch 89/200\n",
      "38/38 [==============================] - 0s 4ms/step - loss: 8.4187 - val_loss: 8.2362\n",
      "Epoch 90/200\n",
      "38/38 [==============================] - 0s 4ms/step - loss: 8.4194 - val_loss: 8.3837\n",
      "Epoch 91/200\n",
      "38/38 [==============================] - 0s 4ms/step - loss: 8.3887 - val_loss: 8.2183\n",
      "Epoch 92/200\n",
      "38/38 [==============================] - 0s 4ms/step - loss: 8.3933 - val_loss: 8.5619\n",
      "Epoch 93/200\n",
      "38/38 [==============================] - 0s 4ms/step - loss: 8.4369 - val_loss: 8.1481\n",
      "Epoch 94/200\n",
      "38/38 [==============================] - 0s 4ms/step - loss: 8.3797 - val_loss: 8.2614\n",
      "Epoch 95/200\n",
      "38/38 [==============================] - 0s 4ms/step - loss: 8.3622 - val_loss: 8.3531\n",
      "Epoch 96/200\n",
      "38/38 [==============================] - 0s 4ms/step - loss: 8.3622 - val_loss: 8.2085\n",
      "Epoch 97/200\n",
      "38/38 [==============================] - 0s 4ms/step - loss: 8.3755 - val_loss: 8.1460\n",
      "Epoch 98/200\n",
      "38/38 [==============================] - 0s 4ms/step - loss: 8.3858 - val_loss: 8.4172\n",
      "Epoch 99/200\n",
      "38/38 [==============================] - 0s 5ms/step - loss: 8.4007 - val_loss: 8.2739\n",
      "Epoch 100/200\n",
      "38/38 [==============================] - 0s 4ms/step - loss: 8.4183 - val_loss: 8.2366\n",
      "Epoch 101/200\n",
      "38/38 [==============================] - 0s 4ms/step - loss: 8.3205 - val_loss: 8.0789\n",
      "Epoch 102/200\n",
      "38/38 [==============================] - 0s 4ms/step - loss: 8.3208 - val_loss: 8.5857\n",
      "Epoch 103/200\n",
      "38/38 [==============================] - 0s 4ms/step - loss: 8.3201 - val_loss: 8.1188\n",
      "Epoch 104/200\n",
      "38/38 [==============================] - 0s 4ms/step - loss: 8.2891 - val_loss: 8.3003\n",
      "Epoch 105/200\n",
      "38/38 [==============================] - 0s 4ms/step - loss: 8.3032 - val_loss: 8.1367\n",
      "Epoch 106/200\n",
      "38/38 [==============================] - 0s 4ms/step - loss: 8.3288 - val_loss: 8.3075\n",
      "Epoch 107/200\n",
      "38/38 [==============================] - 0s 4ms/step - loss: 8.3395 - val_loss: 8.0369\n",
      "Epoch 108/200\n",
      "38/38 [==============================] - 0s 4ms/step - loss: 8.2734 - val_loss: 8.2818\n",
      "Epoch 109/200\n",
      "38/38 [==============================] - 0s 4ms/step - loss: 8.2644 - val_loss: 8.3828\n",
      "Epoch 110/200\n",
      "38/38 [==============================] - 0s 5ms/step - loss: 8.3595 - val_loss: 7.9695\n",
      "Epoch 111/200\n",
      "38/38 [==============================] - 0s 4ms/step - loss: 8.2487 - val_loss: 8.1040\n",
      "Epoch 112/200\n",
      "38/38 [==============================] - 0s 4ms/step - loss: 8.2074 - val_loss: 8.0257\n",
      "Epoch 113/200\n",
      "38/38 [==============================] - 0s 4ms/step - loss: 8.2244 - val_loss: 7.9245\n",
      "Epoch 114/200\n",
      "38/38 [==============================] - 0s 4ms/step - loss: 8.1822 - val_loss: 8.0928\n",
      "Epoch 115/200\n",
      "38/38 [==============================] - 0s 5ms/step - loss: 8.2058 - val_loss: 8.0933\n",
      "Epoch 116/200\n",
      "38/38 [==============================] - 0s 4ms/step - loss: 8.1802 - val_loss: 8.2425\n",
      "Epoch 117/200\n",
      "38/38 [==============================] - 0s 4ms/step - loss: 8.1632 - val_loss: 7.9510\n",
      "Epoch 118/200\n",
      "38/38 [==============================] - 0s 4ms/step - loss: 8.1225 - val_loss: 8.0100\n",
      "Epoch 119/200\n",
      "38/38 [==============================] - 0s 4ms/step - loss: 8.0693 - val_loss: 8.0598\n",
      "Epoch 120/200\n",
      "38/38 [==============================] - 0s 4ms/step - loss: 8.0438 - val_loss: 7.9897\n",
      "Epoch 121/200\n",
      "38/38 [==============================] - 0s 5ms/step - loss: 7.9981 - val_loss: 7.8274\n",
      "Epoch 122/200\n",
      "38/38 [==============================] - 0s 4ms/step - loss: 7.9630 - val_loss: 7.9552\n",
      "Epoch 123/200\n",
      "38/38 [==============================] - 0s 4ms/step - loss: 7.9148 - val_loss: 7.9730\n",
      "Epoch 124/200\n",
      "38/38 [==============================] - 0s 5ms/step - loss: 7.8372 - val_loss: 7.8492\n",
      "Epoch 125/200\n",
      "38/38 [==============================] - 0s 5ms/step - loss: 7.7842 - val_loss: 7.7723\n",
      "Epoch 126/200\n",
      "38/38 [==============================] - 0s 5ms/step - loss: 7.8287 - val_loss: 7.5057\n",
      "Epoch 127/200\n",
      "38/38 [==============================] - 0s 5ms/step - loss: 7.7225 - val_loss: 7.7056\n",
      "Epoch 128/200\n",
      "38/38 [==============================] - 0s 4ms/step - loss: 7.6508 - val_loss: 7.4677\n",
      "Epoch 129/200\n",
      "38/38 [==============================] - 0s 4ms/step - loss: 7.5702 - val_loss: 7.5918\n",
      "Epoch 130/200\n",
      "38/38 [==============================] - 0s 4ms/step - loss: 7.6335 - val_loss: 7.9056\n",
      "Epoch 131/200\n",
      "38/38 [==============================] - 0s 4ms/step - loss: 7.5259 - val_loss: 7.4698\n",
      "Epoch 132/200\n",
      "38/38 [==============================] - 0s 4ms/step - loss: 7.5493 - val_loss: 7.5678\n",
      "Epoch 133/200\n",
      "38/38 [==============================] - 0s 4ms/step - loss: 7.5556 - val_loss: 7.4591\n",
      "Epoch 134/200\n",
      "38/38 [==============================] - 0s 4ms/step - loss: 7.4737 - val_loss: 8.0481\n",
      "Epoch 135/200\n",
      "38/38 [==============================] - 0s 4ms/step - loss: 7.4615 - val_loss: 7.5486\n",
      "Epoch 136/200\n",
      "38/38 [==============================] - 0s 4ms/step - loss: 7.5835 - val_loss: 7.6372\n",
      "Epoch 137/200\n",
      "38/38 [==============================] - 0s 4ms/step - loss: 7.4442 - val_loss: 7.6416\n",
      "Epoch 138/200\n",
      "38/38 [==============================] - 0s 4ms/step - loss: 7.4587 - val_loss: 7.7625\n",
      "Epoch 139/200\n",
      "38/38 [==============================] - 0s 6ms/step - loss: 7.4935 - val_loss: 8.1513\n",
      "Epoch 140/200\n",
      "38/38 [==============================] - 0s 5ms/step - loss: 7.4203 - val_loss: 8.0787\n",
      "Epoch 141/200\n",
      "38/38 [==============================] - 0s 4ms/step - loss: 7.3629 - val_loss: 7.7133\n",
      "Epoch 142/200\n",
      "38/38 [==============================] - 0s 4ms/step - loss: 7.3471 - val_loss: 7.5400\n",
      "Epoch 143/200\n",
      "38/38 [==============================] - 0s 4ms/step - loss: 7.3585 - val_loss: 7.6462\n"
     ]
    }
   ],
   "source": [
    "es_callback = keras.callbacks.EarlyStopping(\n",
    "    monitor=\"val_loss\", min_delta=0, patience=10)\n",
    "\n",
    "history = model.fit(\n",
    "    X_train, y_train,\n",
    "    epochs=200,\n",
    "    validation_split=0.2, shuffle=True, batch_size = 64, callbacks=[es_callback]\n",
    ")"
   ]
  },
  {
   "cell_type": "code",
   "execution_count": 15,
   "id": "assigned-afternoon",
   "metadata": {
    "id": "assigned-afternoon"
   },
   "outputs": [
    {
     "name": "stdout",
     "output_type": "stream",
     "text": [
      "21/21 [==============================] - 0s 1ms/step - loss: 6.3135\n",
      "Test Loss: 6.3134870529174805\n"
     ]
    }
   ],
   "source": [
    "results = model.evaluate(X_test, y_test, verbose=1)\n",
    "print('Test Loss: {}'.format(results))"
   ]
  },
  {
   "cell_type": "markdown",
   "id": "precise-tract",
   "metadata": {
    "id": "precise-tract"
   },
   "source": [
    "<a name='3.4'></a>\n",
    "## Cuestión 4: ¿En cuáles de estas aplicaciones se usaría un arquitectura 'many-to-one'?\n",
    "\n",
    "**a)** Clasificación de sentimiento en textos\n",
    "\n",
    "**b)** Verificación de voz para iniciar el ordenador.\n",
    "\n",
    "**c)** Generación de música.\n",
    "\n",
    "**d)** Un clasificador que clasifique piezas de música según su autor.\n"
   ]
  },
  {
   "cell_type": "markdown",
   "id": "professional-mayor",
   "metadata": {
    "id": "professional-mayor"
   },
   "source": [
    "Respuestas:\n",
    "* **a)** Clasificación de sentimiento en textos.\n",
    "* **b)** Verificación de voz para iniciar el ordenador.\n",
    "* **d)** Un clasificador que clasifique piezas de música según su autor."
   ]
  },
  {
   "cell_type": "markdown",
   "id": "fallen-error",
   "metadata": {
    "id": "fallen-error"
   },
   "source": [
    "<a name='3.5'></a>\n",
    "## Cuestión 5: ¿Qué ventajas aporta el uso de word embeddings?\n",
    "\n",
    "**a)** Permiten reducir la dimensión de entrada respecto al one-hot encoding.\n",
    "\n",
    "**b)** Permiten descubrir la similaridad entre palabras de manera más intuitiva que con one-hot encoding.\n",
    "\n",
    "**c)** Son una manera de realizar transfer learning en nlp.\n",
    "\n",
    "**d)** Permiten visualizar las relaciones entre palabras con métodos de reducción de dimensioones como el PCA.\n"
   ]
  },
  {
   "cell_type": "markdown",
   "id": "stylish-polish",
   "metadata": {
    "id": "stylish-polish"
   },
   "source": [
    "Respuesta: \n",
    "* **a)** Permiten reducir la dimensión de entrada respecto al one-hot encoding.\n",
    "* **b)** Permiten descubrir la similaridad entre palabras de manera más intuitiva que con one-hot encoding.\n",
    "* **c)** Son una manera de realizar transfer learning en nlp.\n",
    "* **d)** Permiten visualizar las relaciones entre palabras con métodos de reducción de dimensioones como el PCA."
   ]
  }
 ],
 "metadata": {
  "colab": {
   "provenance": [],
   "toc_visible": true
  },
  "kernelspec": {
   "display_name": "Python 3",
   "language": "python",
   "name": "python3"
  },
  "language_info": {
   "codemirror_mode": {
    "name": "ipython",
    "version": 3
   },
   "file_extension": ".py",
   "mimetype": "text/x-python",
   "name": "python",
   "nbconvert_exporter": "python",
   "pygments_lexer": "ipython3",
   "version": "3.10.12"
  },
  "latex_envs": {
   "LaTeX_envs_menu_present": true,
   "autoclose": false,
   "autocomplete": true,
   "bibliofile": "biblio.bib",
   "cite_by": "apalike",
   "current_citInitial": 1,
   "eqLabelWithNumbers": true,
   "eqNumInitial": 1,
   "hotkeys": {
    "equation": "Ctrl-E",
    "itemize": "Ctrl-I"
   },
   "labels_anchors": false,
   "latex_user_defs": false,
   "report_style_numbering": false,
   "user_envs_cfg": false
  }
 },
 "nbformat": 4,
 "nbformat_minor": 5
}
